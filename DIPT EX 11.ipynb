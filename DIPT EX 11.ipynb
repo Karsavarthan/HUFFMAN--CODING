{
 "cells": [
  {
   "cell_type": "code",
   "execution_count": null,
   "id": "f76825b3-eae3-41c8-9eff-bc1a5faad6a3",
   "metadata": {},
   "outputs": [],
   "source": [
    "DEVELOPED BY: Karsavarthan R R\n",
    "REGISTER NO: 212223230100"
   ]
  },
  {
   "cell_type": "code",
   "execution_count": 13,
   "id": "64fa6eac-bd63-46a7-838c-d577b255e0bc",
   "metadata": {},
   "outputs": [],
   "source": [
    "input_string = \"HII KARSA\"  "
   ]
  },
  {
   "cell_type": "code",
   "execution_count": 14,
   "id": "abc558ee-ad31-48b3-ac96-08692670d9a5",
   "metadata": {},
   "outputs": [],
   "source": [
    "frequency = {}\n",
    "for char in input_string:\n",
    "    if char in frequency:\n",
    "        frequency[char] += 1\n",
    "    else:\n",
    "        frequency[char] = 1"
   ]
  },
  {
   "cell_type": "code",
   "execution_count": 15,
   "id": "794d2a1f-20e9-4654-9d09-05d693a4d279",
   "metadata": {},
   "outputs": [],
   "source": [
    "nodes = [[char, freq] for char, freq in frequency.items()]"
   ]
  },
  {
   "cell_type": "code",
   "execution_count": 16,
   "id": "33626534-19f5-47c1-9dc9-0af3f63a10eb",
   "metadata": {},
   "outputs": [],
   "source": [
    "while len(nodes) > 1:\n",
    "    nodes = sorted(nodes, key=lambda x: x[1])\n",
    "\n",
    "    left = nodes.pop(0)\n",
    "    right = nodes.pop(0)\n",
    "\n",
    "    new_node = [[left, right], left[1] + right[1]]\n",
    "    nodes.append(new_node)\n",
    "\n",
    "huffman_tree = nodes[0]"
   ]
  },
  {
   "cell_type": "code",
   "execution_count": 17,
   "id": "0ecdead8-dc1f-4228-a9c9-e22e6cfd7f97",
   "metadata": {},
   "outputs": [],
   "source": [
    "huffman_codes = {}\n",
    "\n",
    "def generate_codes(tree, code=\"\"):\n",
    "    if isinstance(tree[0], str):\n",
    "        huffman_codes[tree[0]] = code\n",
    "    else:  \n",
    "        generate_codes(tree[0][0], code + \"0\")\n",
    "        generate_codes(tree[0][1], code + \"1\")\n",
    "\n",
    "generate_codes(huffman_tree)"
   ]
  },
  {
   "cell_type": "code",
   "execution_count": 18,
   "id": "5c9e98aa-128d-40a8-9d91-e86ba0268b4e",
   "metadata": {},
   "outputs": [
    {
     "name": "stdout",
     "output_type": "stream",
     "text": [
      "Character | Huffman Code\n",
      "-------------------------\n",
      "    A    |    00\n",
      "    H    |    010\n",
      "         |    011\n",
      "    K    |    100\n",
      "    R    |    101\n",
      "    S    |    110\n",
      "    I    |    111\n"
     ]
    }
   ],
   "source": [
    "print(\"Character | Huffman Code\")\n",
    "print(\"-------------------------\")\n",
    "for char, code in huffman_codes.items():\n",
    "    print(f\"    {char}    |    {code}\")"
   ]
  },
  {
   "cell_type": "code",
   "execution_count": null,
   "id": "a6fbd652-27ce-4b9d-91bd-6157caa49d09",
   "metadata": {},
   "outputs": [],
   "source": []
  }
 ],
 "metadata": {
  "kernelspec": {
   "display_name": "Python 3 (ipykernel)",
   "language": "python",
   "name": "python3"
  },
  "language_info": {
   "codemirror_mode": {
    "name": "ipython",
    "version": 3
   },
   "file_extension": ".py",
   "mimetype": "text/x-python",
   "name": "python",
   "nbconvert_exporter": "python",
   "pygments_lexer": "ipython3",
   "version": "3.12.9"
  }
 },
 "nbformat": 4,
 "nbformat_minor": 5
}
